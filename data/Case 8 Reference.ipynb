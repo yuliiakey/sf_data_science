{
 "cells": [
  {
   "cell_type": "markdown",
   "metadata": {},
   "source": [
    "### Описание гипотезы\n",
    "Проверим два предположения:\n",
    "- Зависит ли вероятность оплаты от выбранного пользователем уровня сложности бесплатных тренировок?\n",
    "- Существует ли разница во времени между пользователями с разным уровнем сложности и их первой оплатой?\n",
    "\n",
    "Проверку будем производить на основе данных пользователей, которые зарегистрировались в 2017 году.\n",
    "\n",
    "### Ход проверки"
   ]
  },
  {
   "cell_type": "markdown",
   "metadata": {},
   "source": [
    "Импортируем нужные библиотеки"
   ]
  },
  {
   "cell_type": "code",
   "execution_count": 1,
   "metadata": {},
   "outputs": [],
   "source": [
    "import pandas as pd\n",
    "import psycopg2\n",
    "import psycopg2.extras \n",
    "import numpy as np"
   ]
  },
  {
   "cell_type": "markdown",
   "metadata": {},
   "source": [
    "Получаем данные из базы данных"
   ]
  },
  {
   "cell_type": "code",
   "execution_count": 2,
   "metadata": {},
   "outputs": [],
   "source": [
    "def getEventsData():\n",
    "    query = '''SELECT e.* FROM case8.events e\n",
    "    WHERE e.user_id in\n",
    "    (SELECT DISTINCT(user_id) \n",
    "    FROM case8.events \n",
    "    WHERE event_type = 'registration' \n",
    "    AND start_time >= '2017-01-01'\n",
    "    AND start_time < '2018-01-01')\n",
    "    '''.format()\n",
    "    conn = psycopg2.connect(\"dbname='skillfactory' user='skillfactory' host='lms.skillfactory.ru' password='cCkxxLVrDE8EbvjueeMedPKt' port=5432\")\n",
    "    dict_cur = conn.cursor(cursor_factory=psycopg2.extras.DictCursor)\n",
    "    dict_cur.execute(query)\n",
    "    rows = dict_cur.fetchall()\n",
    "    data = []\n",
    "    for row in rows:\n",
    "        data.append(dict(row))\n",
    "    return data\n",
    "\n",
    "def getPurchaseData():\n",
    "    query = '''SELECT p.* FROM case8.purchase p\n",
    "    WHERE p.user_id in\n",
    "    (SELECT DISTINCT(user_id) \n",
    "    FROM case8.events \n",
    "    WHERE event_type = 'registration' \n",
    "    AND start_time >= '2017-01-01'\n",
    "    AND start_time < '2018-01-01')\n",
    "    '''.format()\n",
    "    conn = psycopg2.connect(\"dbname='skillfactory' user='skillfactory' host='lms.skillfactory.ru' password='cCkxxLVrDE8EbvjueeMedPKt' port=5432\")\n",
    "    dict_cur = conn.cursor(cursor_factory=psycopg2.extras.DictCursor)\n",
    "    dict_cur.execute(query)\n",
    "    rows = dict_cur.fetchall()\n",
    "    data = []\n",
    "    for row in rows:\n",
    "        data.append(dict(row))\n",
    "    return data\n",
    "\n",
    "events_df = pd.DataFrame(getEventsData())\n",
    "purchase_df = pd.DataFrame(getPurchaseData())"
   ]
  },
  {
   "cell_type": "markdown",
   "metadata": {},
   "source": [
    "Произведем преобразование типов (мы уже знаем из кейса, что его нужно проивзести, поэтому можно не делать обзор типов)"
   ]
  },
  {
   "cell_type": "code",
   "execution_count": 3,
   "metadata": {},
   "outputs": [],
   "source": [
    "events_df['start_time'] = pd.to_datetime(events_df['start_time'])\n",
    "purchase_df['start_time'] = pd.to_datetime(purchase_df['start_time'])"
   ]
  },
  {
   "cell_type": "markdown",
   "metadata": {},
   "source": [
    "Перед объединением датафреймов, переименуем колонки"
   ]
  },
  {
   "cell_type": "code",
   "execution_count": 4,
   "metadata": {},
   "outputs": [],
   "source": [
    "events_df = events_df.rename(columns={'id':'event_id'})\n",
    "purchase_df = purchase_df.rename(columns={'id':'purchase_id'})"
   ]
  },
  {
   "cell_type": "markdown",
   "metadata": {},
   "source": [
    "Сделаем объединенный датафрейм из событий и оплат"
   ]
  },
  {
   "cell_type": "code",
   "execution_count": 5,
   "metadata": {},
   "outputs": [],
   "source": [
    "total_events_df = pd.concat([events_df,purchase_df],sort=False)"
   ]
  },
  {
   "cell_type": "markdown",
   "metadata": {},
   "source": [
    "Сделаем группы пользователей по уровню сложности, который был выбран для тренировок.\n",
    "\n",
    "Сначала посмотрим как уровни сложности бывают:"
   ]
  },
  {
   "cell_type": "code",
   "execution_count": 6,
   "metadata": {},
   "outputs": [
    {
     "data": {
      "text/plain": [
       "array([None, 'medium', 'hard', 'easy', nan], dtype=object)"
      ]
     },
     "execution_count": 6,
     "metadata": {},
     "output_type": "execute_result"
    }
   ],
   "source": [
    "total_events_df['selected_level'].unique()"
   ]
  },
  {
   "cell_type": "markdown",
   "metadata": {},
   "source": [
    "Сформируем группы"
   ]
  },
  {
   "cell_type": "code",
   "execution_count": 7,
   "metadata": {},
   "outputs": [],
   "source": [
    "users_with_easy_level = total_events_df[total_events_df['selected_level'] == 'easy']['user_id'].unique()\n",
    "users_with_medium_level = total_events_df[total_events_df['selected_level'] == 'medium']['user_id'].unique()\n",
    "users_with_hard_level = total_events_df[total_events_df['selected_level'] == 'hard']['user_id'].unique()"
   ]
  },
  {
   "cell_type": "markdown",
   "metadata": {},
   "source": [
    "Посчитаем для каждой группы показатели"
   ]
  },
  {
   "cell_type": "code",
   "execution_count": 8,
   "metadata": {},
   "outputs": [
    {
     "name": "stdout",
     "output_type": "stream",
     "text": [
      "Процент оплативших пользователей, выбравших уровень сложности easy: 7.72%\n",
      "\n",
      "Среднее время между выбором уровня сложности и оплатой для пользователей, выбравших уровень сложности easy: 3 days 14:58:52.941798\n",
      "Характеристики времени:\n",
      "count                       189\n",
      "mean     3 days 14:58:52.941798\n",
      "std      2 days 07:06:35.644097\n",
      "min             0 days 00:49:20\n",
      "25%             1 days 17:18:56\n",
      "50%             3 days 06:03:50\n",
      "75%             5 days 06:58:18\n",
      "max            10 days 18:35:09\n",
      "Name: timedelta, dtype: object\n",
      "Процент оплативших пользователей, выбравших уровень сложности medium: 20.86%\n",
      "\n",
      "Среднее время между выбором уровня сложности и оплатой для пользователей, выбравших уровень сложности medium: 3 days 23:14:13.165118\n",
      "Характеристики времени:\n",
      "count                       969\n",
      "mean     3 days 23:14:13.165118\n",
      "std      2 days 06:18:57.618467\n",
      "min             0 days 04:18:12\n",
      "25%             2 days 01:20:07\n",
      "50%             3 days 19:53:19\n",
      "75%             5 days 16:07:19\n",
      "max            10 days 13:51:01\n",
      "Name: timedelta, dtype: object\n",
      "Процент оплативших пользователей, выбравших уровень сложности hard: 35.39%\n",
      "\n",
      "Среднее время между выбором уровня сложности и оплатой для пользователей, выбравших уровень сложности hard: 3 days 07:20:41.420814\n",
      "Характеристики времени:\n",
      "count                       442\n",
      "mean     3 days 07:20:41.420814\n",
      "std      1 days 21:43:52.953292\n",
      "min             0 days 03:26:45\n",
      "25%      1 days 14:57:23.500000\n",
      "50%      3 days 03:13:57.500000\n",
      "75%      4 days 19:16:00.250000\n",
      "max             8 days 01:18:13\n",
      "Name: timedelta, dtype: object\n"
     ]
    }
   ],
   "source": [
    "user_groups = [\n",
    "    {'easy': users_with_easy_level},\n",
    "    {'medium': users_with_medium_level},\n",
    "    {'hard': users_with_hard_level}\n",
    "]\n",
    "\n",
    "for group in user_groups:\n",
    "    level = list(group.keys())[0]\n",
    "    group_users = group[level]\n",
    "    count_of_users_in_group = len(group_users)\n",
    "    purchase_df_slice = purchase_df[purchase_df['user_id'].isin(group_users)]\n",
    "    percent_of_purchase = purchase_df_slice['user_id'].nunique()/count_of_users_in_group\n",
    "    print ('Процент оплативших пользователей, выбравших уровень сложности {}: {:.2%}'.format(level,percent_of_purchase))\n",
    "    print ()\n",
    "    level_choice_df = total_events_df[(total_events_df['event_type'] == 'level_choice') & (total_events_df['user_id'].isin(group_users))]\n",
    "    if (level_choice_df['user_id'].value_counts().mean()) == 1:\n",
    "        level_choice_df = level_choice_df[['user_id','start_time']].rename(columns={'start_time':'level_choice_time'})\n",
    "        purchase_df_slice_2 = purchase_df_slice[['user_id','start_time']].rename(columns={'start_time':'purchase_time'})\n",
    "        merged_df = purchase_df_slice_2.merge(level_choice_df,on='user_id',how='inner')\n",
    "        merged_df['timedelta'] = merged_df['purchase_time'] - merged_df['level_choice_time']\n",
    "        mean_time = merged_df['timedelta'].mean()\n",
    "        print ('Среднее время между выбором уровня сложности и оплатой для пользователей, выбравших уровень сложности {}: {}'.format(level,mean_time))\n",
    "        print ('Характеристики времени:')\n",
    "        print (merged_df['timedelta'].describe())\n",
    "    else:\n",
    "        print ('Более 1 события выбора уровня сложности')"
   ]
  },
  {
   "cell_type": "markdown",
   "metadata": {},
   "source": [
    "### Выводы\n",
    "Процент оплативших пользователей, выбравших уровень сложности easy: 7.72%\n",
    "Процент оплативших пользователей, выбравших уровень сложности medium: 20.86%\n",
    "Процент оплативших пользователей, выбравших уровень сложности hard: 35.39%\n",
    "\n",
    "Таким образом, существует прямая зависимость между выбранным уровнем сложности и процент пользователей, которые оплатили тренировки. Пользователи, выбирающие более сложные тренировки, чаще покупают платные тренировки.\n",
    "\n",
    "Наибольшее время между событием выбора уровня сложности и моментом первой оплаты, тратят пользователи, которые выбрали уровень сложности medium. Для них среднее время составляет 3 дня 23 часа, а медианное время 3 дня 19 часов.\n",
    "\n",
    "Чуть меньше времени тратят пользователи, выбравшие уровень сложности easy. Для них среднее время составляет 3 дня 14 часов, а медианное время 3 дня 6 часов.\n",
    "\n",
    "Меньше всего времени на принятие решение о покупке тратят пользователя, выбравшие уровень сложности hard. Для них среднее время составляет 3 дня 7 часов, а медианное время 3 дня 13 часов. \n",
    "\n",
    "**Пожалуйста, заполните небольшую анкету обратной связи по эталонному ответу для кейса #8:**\n",
    "\n",
    "https://forms.gle/z2VAj6R49yYuxqGGA"
   ]
  },
  {
   "cell_type": "code",
   "execution_count": null,
   "metadata": {},
   "outputs": [],
   "source": []
  }
 ],
 "metadata": {
  "kernelspec": {
   "display_name": "Python 3",
   "language": "python",
   "name": "python3"
  },
  "language_info": {
   "codemirror_mode": {
    "name": "ipython",
    "version": 3
   },
   "file_extension": ".py",
   "mimetype": "text/x-python",
   "name": "python",
   "nbconvert_exporter": "python",
   "pygments_lexer": "ipython3",
   "version": "3.7.1"
  }
 },
 "nbformat": 4,
 "nbformat_minor": 2
}
