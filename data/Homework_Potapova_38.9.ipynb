{
 "cells": [
  {
   "cell_type": "markdown",
   "source": [
    "### Описание гипотезы\n",
    "Проверим два предположения:\n",
    "- Зависит ли вероятность оплаты от выбранного пользователем уровня сложности бесплатных тренировок?\n",
    "- Существует ли разница во времени между пользователями с разным уровнем сложности и их первой оплатой?\n",
    "\n",
    "Проверку будем производить на основе данных пользователей, которые зарегистрировались в 2018 году.\n",
    "\n",
    "### Ход проверки"
   ],
   "metadata": {}
  },
  {
   "cell_type": "markdown",
   "source": [
    "Импортируем нужные библиотеки"
   ],
   "metadata": {}
  },
  {
   "cell_type": "code",
   "execution_count": 2,
   "source": [
    "import pandas as pd\n",
    "import numpy as np"
   ],
   "outputs": [],
   "metadata": {}
  },
  {
   "cell_type": "markdown",
   "source": [
    "Получаем данные из базы данных"
   ],
   "metadata": {}
  },
  {
   "cell_type": "code",
   "execution_count": 3,
   "source": [
    "events_df = pd.read_csv('events.csv')\n",
    "purchase_df = pd.read_csv('purchase.csv')"
   ],
   "outputs": [],
   "metadata": {}
  },
  {
   "cell_type": "markdown",
   "source": [
    "Сделаем выборку пользователей, зарегистрировавшихся в 2018 году. Период анализа — с 1 января по 31 декабря 2018 года.\n",
    "\n"
   ],
   "metadata": {}
  },
  {
   "cell_type": "code",
   "execution_count": 4,
   "source": [
    "cond = (events_df.start_time>='2018-01-01') & (events_df.start_time<'2019-01-01') & (events_df.event_type == 'registration')\n",
    "registered = events_df[cond]['user_id'].to_list()\n",
    "events_df = events_df[events_df.user_id.isin(registered)]    \n",
    "events_df.start_time = pd.to_datetime(events_df.start_time, format = '%Y-%m-%dT%H:%M:%S')"
   ],
   "outputs": [],
   "metadata": {}
  },
  {
   "cell_type": "markdown",
   "source": [
    "Произведем преобразование типов (в датафрейме purchase_df переименуем столбей event_datetime на start_time для дальнейшего объединения с датафреймом event_df)"
   ],
   "metadata": {}
  },
  {
   "cell_type": "code",
   "execution_count": 5,
   "source": [
    "events_df['start_time'] = pd.to_datetime(events_df.start_time)\n",
    "purchase_df['start_time'] = pd.to_datetime(purchase_df.event_datetime)"
   ],
   "outputs": [],
   "metadata": {}
  },
  {
   "cell_type": "markdown",
   "source": [
    "Перед объединением датафреймов, переименуем колонки"
   ],
   "metadata": {}
  },
  {
   "cell_type": "code",
   "execution_count": 6,
   "source": [
    "events_df = events_df.rename(columns={'id':'event_id'})\n",
    "purchase_df = purchase_df.rename(columns={'id':'purchase_id'})"
   ],
   "outputs": [],
   "metadata": {}
  },
  {
   "cell_type": "markdown",
   "source": [
    "Сделаем объединенный датафрейм из событий и оплат"
   ],
   "metadata": {}
  },
  {
   "cell_type": "code",
   "execution_count": 7,
   "source": [
    "total_events_df = pd.concat([events_df,purchase_df],sort=False)"
   ],
   "outputs": [],
   "metadata": {}
  },
  {
   "cell_type": "markdown",
   "source": [
    "Сделаем группы пользователей по уровню сложности, который был выбран для тренировок.\n",
    "\n",
    "Сначала посмотрим как уровни сложности бывают:"
   ],
   "metadata": {}
  },
  {
   "cell_type": "code",
   "execution_count": 8,
   "source": [
    "total_events_df['selected_level'].unique()"
   ],
   "outputs": [
    {
     "output_type": "execute_result",
     "data": {
      "text/plain": [
       "array([nan, 'medium', 'hard', 'easy'], dtype=object)"
      ]
     },
     "metadata": {},
     "execution_count": 8
    }
   ],
   "metadata": {}
  },
  {
   "cell_type": "markdown",
   "source": [
    "Сформируем группы"
   ],
   "metadata": {}
  },
  {
   "cell_type": "code",
   "execution_count": 9,
   "source": [
    "users_with_easy_level = total_events_df[total_events_df['selected_level'] == 'easy']['user_id'].unique()\n",
    "users_with_medium_level = total_events_df[total_events_df['selected_level'] == 'medium']['user_id'].unique()\n",
    "users_with_hard_level = total_events_df[total_events_df['selected_level'] == 'hard']['user_id'].unique()"
   ],
   "outputs": [],
   "metadata": {}
  },
  {
   "cell_type": "markdown",
   "source": [
    "Посчитаем для каждой группы показатели"
   ],
   "metadata": {}
  },
  {
   "cell_type": "code",
   "execution_count": 10,
   "source": [
    "user_groups = [\n",
    "    {'easy': users_with_easy_level},\n",
    "    {'medium': users_with_medium_level},\n",
    "    {'hard': users_with_hard_level}\n",
    "]\n",
    "\n",
    "for group in user_groups:\n",
    "    level = list(group.keys())[0]\n",
    "    group_users = group[level]\n",
    "    count_of_users_in_group = len(group_users)\n",
    "    purchase_df_slice = purchase_df[purchase_df['user_id'].isin(group_users)]\n",
    "    percent_of_purchase = purchase_df_slice['user_id'].nunique()/count_of_users_in_group\n",
    "    print ('Процент оплативших пользователей, выбравших уровень сложности {}: {:.2%}'.format(level,percent_of_purchase))\n",
    "    print ()\n",
    "    level_choice_df = total_events_df[(total_events_df['event_type'] == 'level_choice') & (total_events_df['user_id'].isin(group_users))]\n",
    "    if (level_choice_df['user_id'].value_counts().mean()) == 1:\n",
    "        level_choice_df = level_choice_df[['user_id','start_time']].rename(columns={'start_time':'level_choice_time'})\n",
    "        purchase_df_slice_2 = purchase_df_slice[['user_id','start_time']].rename(columns={'start_time':'purchase_time'})\n",
    "        merged_df = purchase_df_slice_2.merge(level_choice_df,on='user_id',how='inner')\n",
    "        merged_df['timedelta'] = merged_df['purchase_time'] - merged_df['level_choice_time']\n",
    "        mean_time = merged_df['timedelta'].mean()\n",
    "        print ('Среднее время между выбором уровня сложности и оплатой для пользователей, выбравших уровень сложности {}: {}'.format(level,mean_time))\n",
    "        print ('Характеристики времени:')\n",
    "        print (merged_df['timedelta'].describe())\n",
    "    else:\n",
    "        print ('Более 1 события выбора уровня сложности')"
   ],
   "outputs": [
    {
     "output_type": "stream",
     "name": "stdout",
     "text": [
      "Процент оплативших пользователей, выбравших уровень сложности easy: 7.72%\n",
      "\n",
      "Среднее время между выбором уровня сложности и оплатой для пользователей, выбравших уровень сложности easy: 3 days 14:58:52.941798941\n",
      "Характеристики времени:\n",
      "count                          189\n",
      "mean     3 days 14:58:52.941798941\n",
      "std      2 days 07:06:35.644097504\n",
      "min                0 days 00:49:20\n",
      "25%                1 days 17:18:56\n",
      "50%                3 days 06:03:50\n",
      "75%                5 days 06:58:18\n",
      "max               10 days 18:35:09\n",
      "Name: timedelta, dtype: object\n",
      "Процент оплативших пользователей, выбравших уровень сложности medium: 20.86%\n",
      "\n",
      "Среднее время между выбором уровня сложности и оплатой для пользователей, выбравших уровень сложности medium: 3 days 23:14:13.165118679\n",
      "Характеристики времени:\n",
      "count                          969\n",
      "mean     3 days 23:14:13.165118679\n",
      "std      2 days 06:18:57.618467109\n",
      "min                0 days 04:18:12\n",
      "25%                2 days 01:20:07\n",
      "50%                3 days 19:53:19\n",
      "75%                5 days 16:07:19\n",
      "max               10 days 13:51:01\n",
      "Name: timedelta, dtype: object\n",
      "Процент оплативших пользователей, выбравших уровень сложности hard: 35.39%\n",
      "\n",
      "Среднее время между выбором уровня сложности и оплатой для пользователей, выбравших уровень сложности hard: 3 days 07:20:41.420814479\n",
      "Характеристики времени:\n",
      "count                          442\n",
      "mean     3 days 07:20:41.420814479\n",
      "std      1 days 21:43:52.953292605\n",
      "min                0 days 03:26:45\n",
      "25%         1 days 14:57:23.500000\n",
      "50%         3 days 03:13:57.500000\n",
      "75%         4 days 19:16:00.250000\n",
      "max                8 days 01:18:13\n",
      "Name: timedelta, dtype: object\n"
     ]
    }
   ],
   "metadata": {}
  },
  {
   "cell_type": "markdown",
   "source": [
    "### Выводы\n",
    "Процент оплативших пользователей, выбравших уровень сложности easy: 7.72%\n",
    "Процент оплативших пользователей, выбравших уровень сложности medium: 20.86%\n",
    "Процент оплативших пользователей, выбравших уровень сложности hard: 35.39%\n",
    "\n",
    "Таким образом, существует прямая зависимость между выбранным уровнем сложности и процент пользователей, которые оплатили тренировки. Пользователи, выбирающие более сложные тренировки, чаще покупают платные тренировки.\n",
    "\n",
    "Наибольшее время между событием выбора уровня сложности и моментом первой оплаты, тратят пользователи, которые выбрали уровень сложности medium. Для них среднее время составляет 3 дня 23 часа, а медианное время 3 дня 19 часов.\n",
    "\n",
    "Чуть меньше времени тратят пользователи, выбравшие уровень сложности easy. Для них среднее время составляет 3 дня 14 часов, а медианное время 3 дня 6 часов.\n",
    "\n",
    "Меньше всего времени на принятие решение о покупке тратят пользователя, выбравшие уровень сложности hard. Для них среднее время составляет 3 дня 7 часов, а медианное время 3 дня 13 часов. "
   ],
   "metadata": {}
  }
 ],
 "metadata": {
  "orig_nbformat": 4,
  "language_info": {
   "name": "python",
   "version": "3.8.8",
   "mimetype": "text/x-python",
   "codemirror_mode": {
    "name": "ipython",
    "version": 3
   },
   "pygments_lexer": "ipython3",
   "nbconvert_exporter": "python",
   "file_extension": ".py"
  },
  "kernelspec": {
   "name": "python3",
   "display_name": "Python 3.8.8 64-bit ('base': conda)"
  },
  "interpreter": {
   "hash": "05aa8562453794e963992109a1b3c7b0a7913b6358d428dc34594105d9dd7a77"
  }
 },
 "nbformat": 4,
 "nbformat_minor": 2
}